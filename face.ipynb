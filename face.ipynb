{
 "cells": [
  {
   "cell_type": "code",
   "execution_count": 1,
   "id": "51cd1037",
   "metadata": {},
   "outputs": [
    {
     "name": "stderr",
     "output_type": "stream",
     "text": [
      "/home/mahdi/Desktop/emotion/emo/lib/python3.12/site-packages/tqdm/auto.py:21: TqdmWarning: IProgress not found. Please update jupyter and ipywidgets. See https://ipywidgets.readthedocs.io/en/stable/user_install.html\n",
      "  from .autonotebook import tqdm as notebook_tqdm\n"
     ]
    }
   ],
   "source": [
    "import os \n",
    "import random\n",
    "import shutil\n",
    "from pathlib import Path\n",
    "from torchvision import transforms, datasets\n",
    "from torch.utils.data import DataLoader\n",
    "import torch\n",
    "from torch import nn \n",
    "from tqdm.auto import tqdm"
   ]
  },
  {
   "cell_type": "code",
   "execution_count": 2,
   "id": "65b1d886",
   "metadata": {},
   "outputs": [],
   "source": [
    "def count_images_in_folders(base_dir):\n",
    "    for split in os.listdir(base_dir):\n",
    "            split_path = os.path.join(base_dir, split)\n",
    "            if os.path.isdir(split_path):\n",
    "                  print(f\"\\n Split: {split}\")\n",
    "                  for emotion in os.listdir(split_path):\n",
    "                        emotion_path = os.path.join(split_path,emotion)\n",
    "                        if os.path.isdir(emotion_path):\n",
    "                              count = len([\n",
    "                                    f for f in os.listdir(emotion_path)\n",
    "                                    if os.path.isfile(os.path.join(emotion_path,f))\n",
    "                              ])\n",
    "                              print(f\" {emotion}: {count} images\")"
   ]
  },
  {
   "cell_type": "code",
   "execution_count": 3,
   "id": "b0e15eb8",
   "metadata": {},
   "outputs": [
    {
     "name": "stdout",
     "output_type": "stream",
     "text": [
      "\n",
      " Split: val\n",
      " fear: 409 images\n",
      " surprise: 317 images\n",
      " sad: 483 images\n",
      " happy: 721 images\n",
      " disgust: 43 images\n",
      " neutral: 496 images\n",
      " angry: 399 images\n",
      "\n",
      " Split: train\n",
      " fear: 3688 images\n",
      " surprise: 2854 images\n",
      " sad: 4347 images\n",
      " happy: 6494 images\n",
      " disgust: 393 images\n",
      " neutral: 4469 images\n",
      " angry: 3596 images\n",
      "\n",
      " Split: test\n",
      " fear: 1024 images\n",
      " surprise: 831 images\n",
      " sad: 1247 images\n",
      " happy: 1774 images\n",
      " disgust: 111 images\n",
      " neutral: 1233 images\n",
      " angry: 958 images\n"
     ]
    }
   ],
   "source": [
    "count_images_in_folders(\"fer2013_data\")  "
   ]
  },
  {
   "cell_type": "code",
   "execution_count": 4,
   "id": "c0ca4198",
   "metadata": {},
   "outputs": [],
   "source": [
    "def split_train_val(train_dir, val_dir, val_ratio = 0.1, seed = 42):\n",
    "    random.seed(seed)\n",
    "\n",
    "    Path(val_dir).mkdir(parents=True, exist_ok=True)\n",
    "\n",
    "    for class_name in os.listdir(train_dir):\n",
    "        class_path = os.path.join(train_dir,class_name)\n",
    "        if not os.path.isdir(class_path):\n",
    "            continue\n",
    "        \n",
    "        images = os.listdir(class_path)\n",
    "        random.shuffle(images)\n",
    "\n",
    "        n_val = int(len(images) * val_ratio)\n",
    "        val_images = images[:n_val]\n",
    "\n",
    "        val_class_path = os.path.join(val_dir, class_name)\n",
    "        Path(val_class_path).mkdir(parents=True, exist_ok= True)\n",
    "\n",
    "        for img_name in val_images:\n",
    "            src_path = os.path.join(class_path,img_name)\n",
    "            dst_path = os.path.join(val_class_path, img_name)\n",
    "            shutil.move(src_path,dst_path)\n",
    "\n",
    "        print(f\"{class_name}: moved {n_val} images to validation set\")"
   ]
  },
  {
   "cell_type": "code",
   "execution_count": 5,
   "id": "d760a4e4",
   "metadata": {},
   "outputs": [],
   "source": [
    "# split_train_val(\n",
    "#     train_dir='fer2013_data/train',\n",
    "#     val_dir='fer2013_data/val',\n",
    "#     val_ratio=0.1,\n",
    "# )"
   ]
  },
  {
   "cell_type": "code",
   "execution_count": 6,
   "id": "fc003994",
   "metadata": {},
   "outputs": [],
   "source": [
    "image_size = 48\n",
    "\n",
    "train_transform = transforms.Compose([\n",
    "    transforms.Resize((image_size, image_size)),\n",
    "    transforms.Grayscale(num_output_channels=1), \n",
    "    transforms.RandomHorizontalFlip(),\n",
    "    transforms.ToTensor(),\n",
    "    transforms.Normalize([0.5],[0.5])\n",
    "\n",
    "])\n",
    "\n",
    "val_test_transform = transforms.Compose([\n",
    "    transforms.Resize((image_size, image_size)),\n",
    "    transforms.Grayscale(num_output_channels=1),  \n",
    "    transforms.ToTensor(),\n",
    "    transforms.Normalize([0.5],[0.5])\n",
    "\n",
    "])\n",
    "\n",
    "train_dataset = datasets.ImageFolder('fer2013_data/train', transform=train_transform)\n",
    "val_dataset = datasets.ImageFolder('fer2013_data/val', transform=val_test_transform)\n",
    "test_dataset = datasets.ImageFolder('fer2013_data/test', transform=val_test_transform)\n",
    "\n",
    "train_loader = DataLoader(train_dataset, batch_size=64, shuffle=True)\n",
    "val_loader = DataLoader(val_dataset, batch_size=64)\n",
    "test_loader = DataLoader(test_dataset, batch_size=64)"
   ]
  },
  {
   "cell_type": "code",
   "execution_count": 7,
   "id": "f2aaef6b",
   "metadata": {},
   "outputs": [
    {
     "data": {
      "text/plain": [
       "{'angry': 0,\n",
       " 'disgust': 1,\n",
       " 'fear': 2,\n",
       " 'happy': 3,\n",
       " 'neutral': 4,\n",
       " 'sad': 5,\n",
       " 'surprise': 6}"
      ]
     },
     "execution_count": 7,
     "metadata": {},
     "output_type": "execute_result"
    }
   ],
   "source": [
    "train_dataset.class_to_idx"
   ]
  },
  {
   "cell_type": "code",
   "execution_count": 8,
   "id": "837896dd",
   "metadata": {},
   "outputs": [
    {
     "name": "stdout",
     "output_type": "stream",
     "text": [
      "Using: cuda device\n"
     ]
    }
   ],
   "source": [
    "device = torch.accelerator.current_accelerator().type if torch.accelerator.is_available() else \"cpu\"\n",
    "print(f\"Using: {device} device\")"
   ]
  },
  {
   "cell_type": "code",
   "execution_count": 9,
   "id": "19356d31",
   "metadata": {},
   "outputs": [],
   "source": [
    "class EmotionCNNV1(nn.Module):\n",
    "    def __init__(self):\n",
    "        super().__init__()\n",
    "        self.layers = nn.Sequential(\n",
    "            nn.Conv2d(1,16, 3),\n",
    "            nn.MaxPool2d(2),\n",
    "            nn.ReLU(),\n",
    "            nn.Conv2d(16,32,3),\n",
    "            nn.MaxPool2d(2),\n",
    "            nn.ReLU(),\n",
    "            nn.Conv2d(32,64,3),\n",
    "            nn.ReLU(),\n",
    "            nn.Flatten(),\n",
    "            nn.Linear(4096,7)\n",
    "        )\n",
    "\n",
    "\n",
    "    def forward(self,x):\n",
    "        logits = self.layers(x)\n",
    "        return logits\n"
   ]
  },
  {
   "cell_type": "code",
   "execution_count": 10,
   "id": "4233a9a9",
   "metadata": {},
   "outputs": [],
   "source": [
    "model = EmotionCNNV1().to(device)"
   ]
  },
  {
   "cell_type": "code",
   "execution_count": 11,
   "id": "d3e2981a",
   "metadata": {},
   "outputs": [
    {
     "name": "stdout",
     "output_type": "stream",
     "text": [
      "torch.Size([1, 64, 8, 8])\n"
     ]
    }
   ],
   "source": [
    "dummy = torch.randn(1, 1, 48, 48)  # (batch, channel, H, W)\n",
    "out = model.layers[:-2](dummy.to(device))  # Skip Flatten and Linear\n",
    "print(out.shape)  # --> torch.Size([1, 64, 39, 39])\n"
   ]
  },
  {
   "cell_type": "code",
   "execution_count": 12,
   "id": "18bc7ff7",
   "metadata": {},
   "outputs": [],
   "source": [
    "optimizer = torch.optim.Adam(model.parameters(), lr = 1e-3)\n",
    "loss_fn = torch.nn.CrossEntropyLoss()"
   ]
  },
  {
   "cell_type": "code",
   "execution_count": 13,
   "id": "994d5429",
   "metadata": {},
   "outputs": [],
   "source": [
    "num_epochs = 15\n",
    "best_val_acc = 0 "
   ]
  },
  {
   "cell_type": "code",
   "execution_count": 14,
   "id": "0bbcc02c",
   "metadata": {},
   "outputs": [
    {
     "name": "stderr",
     "output_type": "stream",
     "text": [
      "100%|██████████| 404/404 [00:04<00:00, 87.37it/s]\n",
      "  7%|▋         | 1/15 [00:05<01:10,  5.04s/it]"
     ]
    },
    {
     "name": "stdout",
     "output_type": "stream",
     "text": [
      "Epoch 1, Train Acc: 0.3792, Val Acc: 0.4575\n",
      "✅ Best model saved!\n"
     ]
    },
    {
     "name": "stderr",
     "output_type": "stream",
     "text": [
      "100%|██████████| 404/404 [00:04<00:00, 89.83it/s]\n",
      " 13%|█▎        | 2/15 [00:09<01:04,  4.96s/it]"
     ]
    },
    {
     "name": "stdout",
     "output_type": "stream",
     "text": [
      "Epoch 2, Train Acc: 0.4713, Val Acc: 0.4791\n",
      "✅ Best model saved!\n"
     ]
    },
    {
     "name": "stderr",
     "output_type": "stream",
     "text": [
      "100%|██████████| 404/404 [00:04<00:00, 88.57it/s]\n",
      " 20%|██        | 3/15 [00:14<00:59,  4.97s/it]"
     ]
    },
    {
     "name": "stdout",
     "output_type": "stream",
     "text": [
      "Epoch 3, Train Acc: 0.5087, Val Acc: 0.5031\n",
      "✅ Best model saved!\n"
     ]
    },
    {
     "name": "stderr",
     "output_type": "stream",
     "text": [
      "100%|██████████| 404/404 [00:04<00:00, 88.68it/s]\n",
      " 27%|██▋       | 4/15 [00:19<00:54,  4.97s/it]"
     ]
    },
    {
     "name": "stdout",
     "output_type": "stream",
     "text": [
      "Epoch 4, Train Acc: 0.5345, Val Acc: 0.5345\n",
      "✅ Best model saved!\n"
     ]
    },
    {
     "name": "stderr",
     "output_type": "stream",
     "text": [
      "100%|██████████| 404/404 [00:04<00:00, 89.14it/s]\n",
      " 33%|███▎      | 5/15 [00:24<00:49,  4.96s/it]"
     ]
    },
    {
     "name": "stdout",
     "output_type": "stream",
     "text": [
      "Epoch 5, Train Acc: 0.5525, Val Acc: 0.5328\n"
     ]
    },
    {
     "name": "stderr",
     "output_type": "stream",
     "text": [
      "100%|██████████| 404/404 [00:04<00:00, 88.91it/s]\n",
      " 40%|████      | 6/15 [00:29<00:44,  4.96s/it]"
     ]
    },
    {
     "name": "stdout",
     "output_type": "stream",
     "text": [
      "Epoch 6, Train Acc: 0.5697, Val Acc: 0.5436\n",
      "✅ Best model saved!\n"
     ]
    },
    {
     "name": "stderr",
     "output_type": "stream",
     "text": [
      "100%|██████████| 404/404 [00:04<00:00, 89.43it/s]\n",
      " 47%|████▋     | 7/15 [00:34<00:39,  4.95s/it]"
     ]
    },
    {
     "name": "stdout",
     "output_type": "stream",
     "text": [
      "Epoch 7, Train Acc: 0.5832, Val Acc: 0.5481\n",
      "✅ Best model saved!\n"
     ]
    },
    {
     "name": "stderr",
     "output_type": "stream",
     "text": [
      "100%|██████████| 404/404 [00:04<00:00, 88.44it/s]\n",
      " 53%|█████▎    | 8/15 [00:39<00:34,  4.96s/it]"
     ]
    },
    {
     "name": "stdout",
     "output_type": "stream",
     "text": [
      "Epoch 8, Train Acc: 0.5949, Val Acc: 0.5565\n",
      "✅ Best model saved!\n"
     ]
    },
    {
     "name": "stderr",
     "output_type": "stream",
     "text": [
      "100%|██████████| 404/404 [00:04<00:00, 89.15it/s]\n",
      " 60%|██████    | 9/15 [00:44<00:29,  4.95s/it]"
     ]
    },
    {
     "name": "stdout",
     "output_type": "stream",
     "text": [
      "Epoch 9, Train Acc: 0.6032, Val Acc: 0.5551\n"
     ]
    },
    {
     "name": "stderr",
     "output_type": "stream",
     "text": [
      "100%|██████████| 404/404 [00:04<00:00, 90.48it/s]\n",
      " 67%|██████▋   | 10/15 [00:49<00:24,  4.93s/it]"
     ]
    },
    {
     "name": "stdout",
     "output_type": "stream",
     "text": [
      "Epoch 10, Train Acc: 0.6181, Val Acc: 0.5533\n"
     ]
    },
    {
     "name": "stderr",
     "output_type": "stream",
     "text": [
      "100%|██████████| 404/404 [00:04<00:00, 90.67it/s]\n",
      " 73%|███████▎  | 11/15 [00:54<00:19,  4.91s/it]"
     ]
    },
    {
     "name": "stdout",
     "output_type": "stream",
     "text": [
      "Epoch 11, Train Acc: 0.6274, Val Acc: 0.5572\n",
      "✅ Best model saved!\n"
     ]
    },
    {
     "name": "stderr",
     "output_type": "stream",
     "text": [
      "100%|██████████| 404/404 [00:04<00:00, 90.36it/s]\n",
      " 80%|████████  | 12/15 [00:59<00:14,  4.90s/it]"
     ]
    },
    {
     "name": "stdout",
     "output_type": "stream",
     "text": [
      "Epoch 12, Train Acc: 0.6340, Val Acc: 0.5635\n",
      "✅ Best model saved!\n"
     ]
    },
    {
     "name": "stderr",
     "output_type": "stream",
     "text": [
      "100%|██████████| 404/404 [00:04<00:00, 90.08it/s]\n",
      " 87%|████████▋ | 13/15 [01:04<00:09,  4.90s/it]"
     ]
    },
    {
     "name": "stdout",
     "output_type": "stream",
     "text": [
      "Epoch 13, Train Acc: 0.6418, Val Acc: 0.5520\n"
     ]
    },
    {
     "name": "stderr",
     "output_type": "stream",
     "text": [
      "100%|██████████| 404/404 [00:04<00:00, 89.86it/s]\n",
      " 93%|█████████▎| 14/15 [01:09<00:04,  4.90s/it]"
     ]
    },
    {
     "name": "stdout",
     "output_type": "stream",
     "text": [
      "Epoch 14, Train Acc: 0.6509, Val Acc: 0.5586\n"
     ]
    },
    {
     "name": "stderr",
     "output_type": "stream",
     "text": [
      "100%|██████████| 404/404 [00:04<00:00, 89.80it/s]\n",
      "100%|██████████| 15/15 [01:13<00:00,  4.93s/it]"
     ]
    },
    {
     "name": "stdout",
     "output_type": "stream",
     "text": [
      "Epoch 15, Train Acc: 0.6586, Val Acc: 0.5551\n"
     ]
    },
    {
     "name": "stderr",
     "output_type": "stream",
     "text": [
      "\n"
     ]
    }
   ],
   "source": [
    "for epoch in tqdm(range(num_epochs)):\n",
    "    model.train()\n",
    "    total_loss = 0\n",
    "    correct = 0 \n",
    "    total = 0 \n",
    "\n",
    "    for images, labels in tqdm(train_loader):\n",
    "        images, labels = images.to(device), labels.to(device)\n",
    "\n",
    "        optimizer.zero_grad()\n",
    "        logits = model(images)\n",
    "        loss = loss_fn(logits,labels)\n",
    "        loss.backward()\n",
    "        optimizer.step()\n",
    "\n",
    "        total_loss += loss.item()\n",
    "        _, preds = torch.max(logits, 1)\n",
    "        correct += (preds == labels).sum().item()\n",
    "        total += labels.size(0)\n",
    "\n",
    "    train_acc = correct / total\n",
    "\n",
    "    model.eval()\n",
    "    val_correct = 0\n",
    "    val_total = 0\n",
    "    with torch.no_grad():\n",
    "        for images, labels in val_loader:\n",
    "            images, labels = images.to(device), labels.to(device)\n",
    "            logits = model(images)\n",
    "            preds = torch.argmax(logits, dim=1)\n",
    "            val_correct += (preds == labels).sum().item()\n",
    "            val_total += labels.size(0)\n",
    "\n",
    "    val_acc = val_correct / val_total\n",
    "    print(f\"Epoch {epoch+1}, Train Acc: {train_acc:.4f}, Val Acc: {val_acc:.4f}\")\n",
    "\n",
    "    # ===== Save Best Model =====\n",
    "    if val_acc > best_val_acc:\n",
    "        best_val_acc = val_acc\n",
    "        torch.save(model.state_dict(), 'best_model.pth')\n",
    "        print(\"✅ Best model saved!\")\n"
   ]
  },
  {
   "cell_type": "code",
   "execution_count": 15,
   "id": "be60312c",
   "metadata": {},
   "outputs": [
    {
     "name": "stderr",
     "output_type": "stream",
     "text": [
      "100%|██████████| 113/113 [00:01<00:00, 109.39it/s]"
     ]
    },
    {
     "name": "stdout",
     "output_type": "stream",
     "text": [
      "Val Acc: 0.5582\n"
     ]
    },
    {
     "name": "stderr",
     "output_type": "stream",
     "text": [
      "\n"
     ]
    }
   ],
   "source": [
    "model.eval()\n",
    "val_correct = 0\n",
    "val_total = 0\n",
    "with torch.no_grad():\n",
    "    for images, labels in tqdm(test_loader):\n",
    "        images, labels = images.to(device), labels.to(device)\n",
    "        logits = model(images)\n",
    "        preds = torch.argmax(logits, dim=1)\n",
    "        val_correct += (preds == labels).sum().item()\n",
    "        val_total += labels.size(0)\n",
    "\n",
    "val_acc = val_correct / val_total\n",
    "print(f\"Val Acc: {val_acc:.4f}\")\n"
   ]
  }
 ],
 "metadata": {
  "kernelspec": {
   "display_name": "emo",
   "language": "python",
   "name": "python3"
  },
  "language_info": {
   "codemirror_mode": {
    "name": "ipython",
    "version": 3
   },
   "file_extension": ".py",
   "mimetype": "text/x-python",
   "name": "python",
   "nbconvert_exporter": "python",
   "pygments_lexer": "ipython3",
   "version": "3.12.3"
  }
 },
 "nbformat": 4,
 "nbformat_minor": 5
}
