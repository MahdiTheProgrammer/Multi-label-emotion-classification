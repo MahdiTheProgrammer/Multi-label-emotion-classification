{
 "cells": [
  {
   "cell_type": "code",
   "execution_count": 6,
   "id": "51cd1037",
   "metadata": {},
   "outputs": [],
   "source": [
    "import os \n",
    "import random\n",
    "import shutil\n",
    "from pathlib import Path"
   ]
  },
  {
   "cell_type": "code",
   "execution_count": 3,
   "id": "65b1d886",
   "metadata": {},
   "outputs": [],
   "source": [
    "def count_images_in_folders(base_dir):\n",
    "    for split in os.listdir(base_dir):\n",
    "            split_path = os.path.join(base_dir, split)\n",
    "            if os.path.isdir(split_path):\n",
    "                  print(f\"\\n Split: {split}\")\n",
    "                  for emotion in os.listdir(split_path):\n",
    "                        emotion_path = os.path.join(split_path,emotion)\n",
    "                        if os.path.isdir(emotion_path):\n",
    "                              count = len([\n",
    "                                    f for f in os.listdir(emotion_path)\n",
    "                                    if os.path.isfile(os.path.join(emotion_path,f))\n",
    "                              ])\n",
    "                              print(f\" {emotion}: {count} images\")"
   ]
  },
  {
   "cell_type": "code",
   "execution_count": 10,
   "id": "b0e15eb8",
   "metadata": {},
   "outputs": [
    {
     "name": "stdout",
     "output_type": "stream",
     "text": [
      "\n",
      " Split: val\n",
      " fear: 409 images\n",
      " surprise: 317 images\n",
      " sad: 483 images\n",
      " happy: 721 images\n",
      " disgust: 43 images\n",
      " neutral: 496 images\n",
      " angry: 399 images\n",
      "\n",
      " Split: train\n",
      " fear: 3688 images\n",
      " surprise: 2854 images\n",
      " sad: 4347 images\n",
      " happy: 6494 images\n",
      " disgust: 393 images\n",
      " neutral: 4469 images\n",
      " angry: 3596 images\n",
      "\n",
      " Split: test\n",
      " fear: 1024 images\n",
      " surprise: 831 images\n",
      " sad: 1247 images\n",
      " happy: 1774 images\n",
      " disgust: 111 images\n",
      " neutral: 1233 images\n",
      " angry: 958 images\n"
     ]
    }
   ],
   "source": [
    "count_images_in_folders(\"fer2013_data\")  "
   ]
  },
  {
   "cell_type": "code",
   "execution_count": 7,
   "id": "c0ca4198",
   "metadata": {},
   "outputs": [],
   "source": [
    "def split_train_val(train_dir, val_dir, val_ratio = 0.1, seed = 42):\n",
    "    random.seed(seed)\n",
    "\n",
    "    Path(val_dir).mkdir(parents=True, exist_ok=True)\n",
    "\n",
    "    for class_name in os.listdir(train_dir):\n",
    "        class_path = os.path.join(train_dir,class_name)\n",
    "        if not os.path.isdir(class_path):\n",
    "            continue\n",
    "        \n",
    "        images = os.listdir(class_path)\n",
    "        random.shuffle(images)\n",
    "\n",
    "        n_val = int(len(images) * val_ratio)\n",
    "        val_images = images[:n_val]\n",
    "\n",
    "        val_class_path = os.path.join(val_dir, class_name)\n",
    "        Path(val_class_path).mkdir(parents=True, exist_ok= True)\n",
    "\n",
    "        for img_name in val_images:\n",
    "            src_path = os.path.join(class_path,img_name)\n",
    "            dst_path = os.path.join(val_class_path, img_name)\n",
    "            shutil.move(src_path,dst_path)\n",
    "\n",
    "        print(f\"{class_name}: moved {n_val} images to validation set\")"
   ]
  },
  {
   "cell_type": "code",
   "execution_count": null,
   "id": "d760a4e4",
   "metadata": {},
   "outputs": [
    {
     "name": "stdout",
     "output_type": "stream",
     "text": [
      "fear: moved 409 images to validation set\n",
      "surprise: moved 317 images to validation set\n",
      "sad: moved 483 images to validation set\n",
      "happy: moved 721 images to validation set\n",
      "disgust: moved 43 images to validation set\n",
      "neutral: moved 496 images to validation set\n",
      "angry: moved 399 images to validation set\n"
     ]
    }
   ],
   "source": [
    "# split_train_val(\n",
    "#     train_dir='fer2013_data/train',\n",
    "#     val_dir='fer2013_data/val',\n",
    "#     val_ratio=0.1,\n",
    "# )"
   ]
  },
  {
   "cell_type": "code",
   "execution_count": null,
   "id": "fc003994",
   "metadata": {},
   "outputs": [],
   "source": []
  }
 ],
 "metadata": {
  "kernelspec": {
   "display_name": "emo",
   "language": "python",
   "name": "python3"
  },
  "language_info": {
   "codemirror_mode": {
    "name": "ipython",
    "version": 3
   },
   "file_extension": ".py",
   "mimetype": "text/x-python",
   "name": "python",
   "nbconvert_exporter": "python",
   "pygments_lexer": "ipython3",
   "version": "3.12.3"
  }
 },
 "nbformat": 4,
 "nbformat_minor": 5
}
